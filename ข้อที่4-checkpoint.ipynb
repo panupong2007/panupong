{
 "cells": [
  {
   "cell_type": "code",
   "execution_count": null,
   "id": "b548a0dc",
   "metadata": {},
   "outputs": [],
   "source": [
    " from binarytree import build\n",
    "nodes =[11, 17, 24, 2, 18, 13, 25]\n",
    "binary_tree = build(nodes)\n",
    "print('Binary tree from list :In', binary_tree)\n",
    "print('InList from binary tree :', binary_tree.values, 'In')\n",
    "print('3.1. การท่องต้นไม่แบบ Preorder, Inorder, และ postorder\")\n",
    "print('Inorder of nodes :', binary_tree.inorder)\n",
    "print('preorder of nodes :', binary_tree.preorder)\n",
    "print('Postoder of nodes : '\n",
    "binary_ tree.postorder,\n",
    "print( '3.2. แสดงความสูงของต้นไม่และจำนวนของโห่นดของต้นไม่)\n",
    "print('Height of tree :', binary_tree,height)\n",
    "print('Size of tree :', binary_ tree.size)\n",
    "Binary tree from list :"
   ]
  },
  {
   "cell_type": "code",
   "execution_count": null,
   "id": "27720e78",
   "metadata": {},
   "outputs": [],
   "source": []
  }
 ],
 "metadata": {
  "kernelspec": {
   "display_name": "Python 3",
   "language": "python",
   "name": "python3"
  },
  "language_info": {
   "codemirror_mode": {
    "name": "ipython",
    "version": 3
   },
   "file_extension": ".py",
   "mimetype": "text/x-python",
   "name": "python",
   "nbconvert_exporter": "python",
   "pygments_lexer": "ipython3",
   "version": "3.8.8"
  }
 },
 "nbformat": 4,
 "nbformat_minor": 5
}
